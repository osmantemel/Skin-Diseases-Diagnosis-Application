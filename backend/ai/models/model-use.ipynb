{
 "cells": [
  {
   "cell_type": "code",
   "execution_count": 3,
   "metadata": {},
   "outputs": [
    {
     "name": "stderr",
     "output_type": "stream",
     "text": [
      "c:\\Users\\Osman\\AppData\\Local\\Programs\\Python\\Python311\\Lib\\site-packages\\keras\\src\\layers\\preprocessing\\tf_data_layer.py:18: UserWarning: Do not pass an `input_shape`/`input_dim` argument to a layer. When using Sequential models, prefer using an `Input(shape)` object as the first layer in the model instead.\n",
      "  super().__init__(**kwargs)\n",
      "WARNING:absl:Compiled the loaded model, but the compiled metrics have yet to be built. `model.compile_metrics` will be empty until you train or evaluate the model.\n",
      "WARNING:absl:Error in loading the saved optimizer state. As a result, your model is starting with a freshly initialized optimizer.\n"
     ]
    }
   ],
   "source": [
    "import numpy as np\n",
    "from PIL import Image\n",
    "from tensorflow.keras.models import load_model\n",
    "\n",
    "model = load_model(\"C:/Users/Osman/Desktop/DOCUMENTS/teknofest/model/cnn_model.h5\")\n",
    "\n",
    "image_path = \"C:/Users/Osman/Desktop/DOCUMENTS/teknofest/Skin-Diseases-Diagnosis-Application/backend/ex.jpg\" \n"
   ]
  },
  {
   "cell_type": "code",
   "execution_count": 4,
   "metadata": {},
   "outputs": [
    {
     "name": "stdout",
     "output_type": "stream",
     "text": [
      "(None, 192, 192, 3)\n"
     ]
    }
   ],
   "source": [
    "print(model.input_shape)"
   ]
  },
  {
   "cell_type": "code",
   "execution_count": 5,
   "metadata": {},
   "outputs": [
    {
     "name": "stdout",
     "output_type": "stream",
     "text": [
      "\u001b[1m1/1\u001b[0m \u001b[32m━━━━━━━━━━━━━━━━━━━━\u001b[0m\u001b[37m\u001b[0m \u001b[1m0s\u001b[0m 157ms/step\n",
      "[[4.86290617e-07 2.89643776e-06 3.86514291e-02 2.69111188e-04\n",
      "  5.37171185e-01 6.83949892e-08 4.96758685e-06 2.15500849e-03\n",
      "  2.33216338e-06 2.47229182e-04 4.21217948e-01 8.70712000e-08\n",
      "  1.18448115e-05 5.94479914e-08 7.50420586e-05 9.92181781e-10\n",
      "  1.85161582e-04 4.26220868e-06 8.65988738e-07]]\n"
     ]
    }
   ],
   "source": [
    "\n",
    "image = Image.open(image_path)\n",
    "\n",
    "image = image.resize((192, 192))  \n",
    "\n",
    "image = image.convert(\"RGB\")\n",
    "image_array = np.array(image)\n",
    "\n",
    "image_array = np.expand_dims(image_array, axis=0)\n",
    "\n",
    "predictions = model.predict(image_array)\n",
    "\n",
    "print(predictions)\n",
    "\n",
    "\n"
   ]
  },
  {
   "cell_type": "code",
   "execution_count": 6,
   "metadata": {},
   "outputs": [
    {
     "name": "stdout",
     "output_type": "stream",
     "text": [
      "Eczema Photos\n"
     ]
    }
   ],
   "source": [
    "class_labels = {\n",
    "    0: \"Acne and Rosacea Photos\",\n",
    "    1: \"Actinic Keratosis Basal Cell Carcinoma and other Malignant Lesions\",\n",
    "    2: \"Atopic Dermatitis Photos\",\n",
    "    3: \"Cellulitis Impetigo and other Bacterial Infections\",\n",
    "    4: \"Eczema Photos\",\n",
    "    5: \"Exanthems and Drug Eruptions\",\n",
    "    6: \"Herpes HPV and other STDs Photos\",\n",
    "    7: \"Light Diseases and Disorders of Pigmentation\",\n",
    "    8: \"Lupus and other Connective Tissue diseases\",\n",
    "    9: \"Melanoma Skin Cancer Nevi and Moles\",\n",
    "    10: \"Poison Ivy Photos and other Contact Dermatitis\",\n",
    "    11: \"Psoriasis pictures Lichen Planus and related diseases\",\n",
    "    12: \"Seborrheic Keratoses and other Benign Tumors\",\n",
    "    13: \"Systemic Disease\",\n",
    "    14: \"Tinea Ringworm Candidiasis and other Fungal Infections\",\n",
    "    15: \"Urticaria Hives\",\n",
    "    16: \"Vascular Tumors\",\n",
    "    17: \"Vasculitis Photos\",\n",
    "    18: \"Warts Molluscum and other Viral Infections\",\n",
    "}\n",
    "\n",
    "\n",
    "predictions = predictions[0]  \n",
    "\n",
    "index = -1\n",
    "en_büyük_index = 0\n",
    "en_büyük = predictions[0]\n",
    "for i in predictions:\n",
    "    index = index + 1\n",
    "    if i > en_büyük:\n",
    "        en_büyük_index = index\n",
    "        en_büyük = i\n",
    "\n",
    "for i in class_labels:\n",
    "    if i == en_büyük_index:\n",
    "        print(class_labels[i])\n"
   ]
  },
  {
   "cell_type": "markdown",
   "metadata": {},
   "source": [
    "+ Acne and Rosacea Photos\n",
    "+ Actinic Keratosis Basal Cell Carcinoma and other Malignant Lesions\n",
    "+ Atopic Dermatitis Photos\n",
    "+ Cellulitis Impetigo and other Bacterial Infections\n",
    "+ Eczema Photos\n",
    "+ Exanthems and Drug Eruptions\n",
    "+ Herpes HPV and other STDs Photos\n",
    "+ Light Diseases and Disorders of Pigmentation\n",
    "+ Lupus and other Connective Tissue diseases\n",
    "+ Melanoma Skin Cancer Nevi and Moles\n",
    "+ Poison Ivy Photos and other Contact Dermatitis\n",
    "+ Psoriasis pictures Lichen Planus and related diseases\n",
    "+ Seborrheic Keratoses and other Benign Tumors\n",
    "+ Systemic Disease\n",
    "+ Tinea Ringworm Candidiasis and other Fungal Infections\n",
    "+ Urticaria Hives\n",
    "+ Vascular Tumors\n",
    "+ Vasculitis Photos\n",
    "+ Warts Molluscum and other Viral Infections"
   ]
  }
 ],
 "metadata": {
  "kernelspec": {
   "display_name": "Python 3",
   "language": "python",
   "name": "python3"
  },
  "language_info": {
   "codemirror_mode": {
    "name": "ipython",
    "version": 3
   },
   "file_extension": ".py",
   "mimetype": "text/x-python",
   "name": "python",
   "nbconvert_exporter": "python",
   "pygments_lexer": "ipython3",
   "version": "3.11.8"
  }
 },
 "nbformat": 4,
 "nbformat_minor": 2
}
