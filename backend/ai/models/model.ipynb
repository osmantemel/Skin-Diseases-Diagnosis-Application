{
 "cells": [
  {
   "cell_type": "code",
   "execution_count": null,
   "metadata": {},
   "outputs": [],
   "source": [
    "import numpy as np\n",
    "import matplotlib.pyplot as plt\n",
    "from sklearn.model_selection import train_test_split\n",
    "from tensorflow.keras.preprocessing.image import ImageDataGenerator\n",
    "from tensorflow.keras.models import Sequential\n",
    "from tensorflow.keras.layers import Conv2D, MaxPooling2D, Flatten, Dense, Dropout"
   ]
  },
  {
   "cell_type": "code",
   "execution_count": null,
   "metadata": {},
   "outputs": [],
   "source": [
    "import numpy as np\n",
    "import matplotlib.pyplot as plt\n",
    "from sklearn.model_selection import train_test_split\n",
    "from tensorflow.keras.preprocessing.image import ImageDataGenerator\n",
    "from tensorflow.keras.models import Sequential\n",
    "from tensorflow.keras.layers import Conv2D, MaxPooling2D, Flatten, Dense, Dropout"
   ]
  },
  {
   "cell_type": "code",
   "execution_count": null,
   "metadata": {},
   "outputs": [],
   "source": [
    "# Data augmentation and preprocessing\n",
    "train_datagen = ImageDataGenerator(\n",
    "    rescale=1./255,\n",
    "    rotation_range=20,\n",
    "    width_shift_range=0.2,\n",
    "    height_shift_range=0.2,\n",
    "    shear_range=0.2,\n",
    "    zoom_range=0.2,\n",
    "    horizontal_flip=True,\n",
    "    fill_mode='nearest')\n",
    "\n",
    "train_generator = train_datagen.flow_from_directory(\n",
    "    '/kaggle/input/20-skin-diseases-dataset/Dataset/train',  # Path to training data directory\n",
    "    target_size=(128, 128),\n",
    "    batch_size=32,\n",
    "    class_mode='categorical')\n",
    "\n",
    "test_datagen = ImageDataGenerator(rescale=1./255)\n",
    "\n",
    "test_generator = test_datagen.flow_from_directory(\n",
    "    '/kaggle/input/',  # Path to testing data directory\n",
    "    target_size=(128, 128),\n",
    "    batch_size=32,\n",
    "    class_mode='categorical')"
   ]
  },
  {
   "cell_type": "code",
   "execution_count": null,
   "metadata": {},
   "outputs": [],
   "source": [
    "path = '../input/20-skin-diseases-dataset/Dataset/train/' #Don't forget that last bar"
   ]
  },
  {
   "cell_type": "code",
   "execution_count": null,
   "metadata": {},
   "outputs": [],
   "source": [
    "class_names = sorted(os.listdir(path))\n",
    "num_classes = len(class_names)\n",
    "\n",
    "img_size = (192, 192, 3)\n",
    "\n",
    "print('classes: ', class_names)"
   ]
  },
  {
   "cell_type": "code",
   "execution_count": null,
   "metadata": {},
   "outputs": [],
   "source": [
    "#CRN4TWW https://www.kaggle.com/code/crn4tww/cnn-cheetahs-and-lions-classifier\n",
    "\n",
    "from random import randint\n",
    "\n",
    "fig, axs = plt.subplots(3, 3, figsize=(16, 16))#Original was 10,6\n",
    "\n",
    "for x in range(3):\n",
    "    for y in range(3):\n",
    "        i = randint(0, len(images))\n",
    "        \n",
    "        axs[x][y].imshow(images[i])\n",
    "        \n",
    "                    \n",
    "        axs[x][y].set_xticks([])\n",
    "        axs[x][y].set_yticks([])\n",
    "        axs[x][y].set_xlabel(class_names[np.argmax(labels[i])])\n",
    "        \n",
    "        \n",
    "plt.show()"
   ]
  },
  {
   "cell_type": "code",
   "execution_count": null,
   "metadata": {},
   "outputs": [],
   "source": [
    "#CRN4TWW https://www.kaggle.com/code/crn4tww/dog-emotions-classifier\n",
    "\n",
    "X_train, X_val, y_train, y_val = train_test_split(images, labels, test_size=0.15, random_state=42)\n",
    "\n",
    "print(f'train images shape: {X_train.shape}\\ntrain labels shape: {y_train.shape}\\n\\nvalidation images shape: {X_val.shape}\\nvalidation labels shape: {y_val.shape}\\n')"
   ]
  },
  {
   "cell_type": "code",
   "execution_count": null,
   "metadata": {},
   "outputs": [],
   "source": [
    "#CRN4TWW https://www.kaggle.com/code/crn4tww/dog-emotions-classifier\n",
    "\n",
    "import tensorflow as tf\n",
    "\n",
    "cnn_model = tf.keras.Sequential()\n",
    "\n",
    "# Inputs and rescaling\n",
    "cnn_model.add(tf.keras.layers.Rescaling(scale=1. / 255, input_shape=(img_size)))\n",
    "\n",
    "# Convolutional block 1\n",
    "cnn_model.add(tf.keras.layers.Conv2D(64, (3, 3), activation='relu', padding='same'))\n",
    "cnn_model.add(tf.keras.layers.Conv2D(64, (3, 3), activation='relu', padding='same'))\n",
    "cnn_model.add(tf.keras.layers.MaxPooling2D(pool_size=2))\n",
    "\n",
    "# Convolutional block 2\n",
    "cnn_model.add(tf.keras.layers.Conv2D(128, (2, 2), activation='relu', padding='same'))\n",
    "cnn_model.add(tf.keras.layers.Conv2D(128, (2, 2), activation='relu', padding='same'))\n",
    "cnn_model.add(tf.keras.layers.MaxPooling2D(pool_size=2))\n",
    "\n",
    "# Convolutional block 3\n",
    "cnn_model.add(tf.keras.layers.Conv2D(256, (2, 2), activation='relu', padding='same'))\n",
    "cnn_model.add(tf.keras.layers.Conv2D(256, (2, 2), activation='relu', padding='same'))\n",
    "cnn_model.add(tf.keras.layers.MaxPooling2D(pool_size=2))\n",
    "\n",
    "# Convolutional block 4\n",
    "cnn_model.add(tf.keras.layers.Conv2D(512, (2, 2), activation='relu', padding='same'))\n",
    "cnn_model.add(tf.keras.layers.Conv2D(512, (2, 2), activation='relu', padding='same'))\n",
    "cnn_model.add(tf.keras.layers.MaxPooling2D(pool_size=2))\n",
    "cnn_model.add(tf.keras.layers.Flatten())\n",
    "\n",
    "# Dense block\n",
    "cnn_model.add(tf.keras.layers.Dense(256, activation='relu'))\n",
    "cnn_model.add(tf.keras.layers.Dense(128, activation='relu'))\n",
    "cnn_model.add(tf.keras.layers.Dense(64, activation='relu'))\n",
    "cnn_model.add(tf.keras.layers.Dense(num_classes, activation='softmax'))\n",
    "\n",
    "\n",
    "cnn_model.compile(optimizer='Adamax', loss='categorical_crossentropy', metrics=['accuracy'])\n",
    "\n",
    "cnn_model.summary()"
   ]
  },
  {
   "cell_type": "code",
   "execution_count": null,
   "metadata": {},
   "outputs": [],
   "source": [
    "#CRN4TWW https://www.kaggle.com/code/crn4tww/dog-emotions-classifier\n",
    "\n",
    "from tensorflow.keras.callbacks import ModelCheckpoint\n",
    "\n",
    "# creating ModelChecpoint callback\n",
    "checkpoint_callback = ModelCheckpoint('cnn_model/model{epoch:02d}')"
   ]
  },
  {
   "cell_type": "code",
   "execution_count": null,
   "metadata": {},
   "outputs": [],
   "source": [
    "history = cnn_model.fit(images, labels, epochs=20, validation_data=(X_val, y_val), callbacks=[checkpoint_callback])"
   ]
  },
  {
   "cell_type": "code",
   "execution_count": null,
   "metadata": {},
   "outputs": [],
   "source": [
    "#CRN4TWW https://www.kaggle.com/code/crn4tww/dog-emotions-classifier\n",
    "\n",
    "accuracy = history.history['accuracy']\n",
    "val_accuracy = history.history['val_accuracy']\n",
    "\n",
    "loss = history.history['loss']\n",
    "val_loss = history.history['val_loss']\n",
    "\n",
    "epochs = range(len(accuracy))\n",
    "\n",
    "plt.figure()\n",
    "plt.plot(epochs, accuracy, label='Training Accuracy')\n",
    "plt.plot(epochs, loss, label='Training Loss')\n",
    "plt.legend()\n",
    "plt.title('Training Accuracy and Loss')\n",
    "\n",
    "plt.figure()\n",
    "plt.plot(epochs, val_accuracy, label='Validation Accuracy')\n",
    "plt.plot(epochs, val_loss, label='Validation Loss')\n",
    "plt.legend()\n",
    "plt.title('Validation Accuracy and Loss')\n",
    "\n",
    "plt.show()"
   ]
  },
  {
   "cell_type": "code",
   "execution_count": null,
   "metadata": {},
   "outputs": [],
   "source": [
    "#CRN4TWW https://www.kaggle.com/code/crn4tww/dog-emotions-classifier\n",
    "\n",
    "fig, axs = plt.subplots(2, 2, figsize=(20, 20))#Original was 7,4 (28 is higher than 25) and figsize 15,15\n",
    "plt.legend(fontsize=\"20\")#I can't read any of them\n",
    "\n",
    "i = 0\n",
    "for x in range(2): #Original was 7 so resulted in error 7X4 = 28\n",
    "    for y in range(2):\n",
    "        prediction = cnn_model.predict(X_val[i][None, ...], verbose=0)[0],\n",
    "       \n",
    "        \n",
    "        axs[x][y].set_xticks([])\n",
    "        axs[x][y].set_yticks([])\n",
    "        axs[x][y].set_xlabel(f'prediction: {class_names[np.argmax(prediction)]} | label: {class_names[np.argmax(y_val[i])]}')\n",
    "        \n",
    "        axs[x][y].imshow(X_val[i])\n",
    "        \n",
    "        i += 1\n",
    "plt.show()\n"
   ]
  }
 ],
 "metadata": {
  "language_info": {
   "name": "python"
  }
 },
 "nbformat": 4,
 "nbformat_minor": 2
}
